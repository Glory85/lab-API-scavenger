{
 "cells": [
  {
   "cell_type": "markdown",
   "metadata": {},
   "source": [
    "## Challenge 1: Fork Languages"
   ]
  },
  {
   "cell_type": "code",
   "execution_count": 1,
   "metadata": {},
   "outputs": [],
   "source": [
    "import requests"
   ]
  },
  {
   "cell_type": "code",
   "execution_count": 2,
   "metadata": {},
   "outputs": [],
   "source": [
    "headers = {\"Accept\": \"application/vnd.github.v3+json\"}"
   ]
  },
  {
   "cell_type": "code",
   "execution_count": 3,
   "metadata": {},
   "outputs": [],
   "source": [
    "url = \"https://api.github.com/orgs/ironhack-bcn-data-pt/repos\""
   ]
  },
  {
   "cell_type": "code",
   "execution_count": 4,
   "metadata": {},
   "outputs": [],
   "source": [
    "resp = requests.get(url, headers = headers).json()"
   ]
  },
  {
   "cell_type": "code",
   "execution_count": 5,
   "metadata": {},
   "outputs": [],
   "source": [
    "forks_links = [resp[i][\"forks_url\"] for i in range(len(resp))]"
   ]
  },
  {
   "cell_type": "code",
   "execution_count": 6,
   "metadata": {},
   "outputs": [
    {
     "data": {
      "text/plain": [
       "['https://api.github.com/repos/ironhack-bcn-data-pt/notebooks/forks',\n",
       " 'https://api.github.com/repos/ironhack-bcn-data-pt/syllabus/forks',\n",
       " 'https://api.github.com/repos/ironhack-bcn-data-pt/data-prework-labs/forks',\n",
       " 'https://api.github.com/repos/ironhack-bcn-data-pt/test-repo/forks',\n",
       " 'https://api.github.com/repos/ironhack-bcn-data-pt/katas-challenge/forks',\n",
       " 'https://api.github.com/repos/ironhack-bcn-data-pt/01-lab-list-comprehensions/forks',\n",
       " 'https://api.github.com/repos/ironhack-bcn-data-pt/02-lab-tuple-set-dict/forks',\n",
       " 'https://api.github.com/repos/ironhack-bcn-data-pt/04-lab-functional-programming/forks',\n",
       " 'https://api.github.com/repos/ironhack-bcn-data-pt/03-lab-lambda-functions/forks',\n",
       " 'https://api.github.com/repos/ironhack-bcn-data-pt/05-lab-object-oriented-programming/forks',\n",
       " 'https://api.github.com/repos/ironhack-bcn-data-pt/datapt-bcn-cheatsheet/forks',\n",
       " 'https://api.github.com/repos/ironhack-bcn-data-pt/07-lab-error-handling/forks',\n",
       " 'https://api.github.com/repos/ironhack-bcn-data-pt/06-lab-map-reduce-filter/forks',\n",
       " 'https://api.github.com/repos/ironhack-bcn-data-pt/PR01-project-python/forks',\n",
       " 'https://api.github.com/repos/ironhack-bcn-data-pt/PR01-python-project-escape-room/forks',\n",
       " 'https://api.github.com/repos/ironhack-bcn-data-pt/08-lab-import-export/forks',\n",
       " 'https://api.github.com/repos/ironhack-bcn-data-pt/09-lab-string-operations/forks',\n",
       " 'https://api.github.com/repos/ironhack-bcn-data-pt/10-lab-advanced-regex/forks',\n",
       " 'https://api.github.com/repos/ironhack-bcn-data-pt/11-lab-numpy/forks',\n",
       " 'https://api.github.com/repos/ironhack-bcn-data-pt/12-lab-pandas/forks',\n",
       " 'https://api.github.com/repos/ironhack-bcn-data-pt/13-lab-pandas-data-cleaning/forks',\n",
       " 'https://api.github.com/repos/ironhack-bcn-data-pt/14-lab-df-calculation-and-transformation/forks',\n",
       " 'https://api.github.com/repos/ironhack-bcn-data-pt/PR02-project-pandas/forks',\n",
       " 'https://api.github.com/repos/ironhack-bcn-data-pt/15-lab-parsing-API-data/forks',\n",
       " 'https://api.github.com/repos/ironhack-bcn-data-pt/16-lab-rss-feeds/forks',\n",
       " 'https://api.github.com/repos/ironhack-bcn-data-pt/17-lab-API-scavenger/forks',\n",
       " 'https://api.github.com/repos/ironhack-bcn-data-pt/18-lab-web-scraping/forks',\n",
       " 'https://api.github.com/repos/ironhack-bcn-data-pt/19-lab-advanced-web-scraping/forks',\n",
       " 'https://api.github.com/repos/ironhack-bcn-data-pt/PR03-project-web/forks',\n",
       " 'https://api.github.com/repos/ironhack-bcn-data-pt/20-lab-sql-select/forks']"
      ]
     },
     "execution_count": 6,
     "metadata": {},
     "output_type": "execute_result"
    }
   ],
   "source": [
    "forks_links"
   ]
  },
  {
   "cell_type": "code",
   "execution_count": 7,
   "metadata": {},
   "outputs": [],
   "source": [
    "import time\n",
    "languages = []\n",
    "for i in forks_links: \n",
    "    time.sleep(2) #ponemos dos segundos de pausa para que no vaya muy a saco \n",
    "    fork = requests.get(f'{i}',headers = headers).json()\n",
    "    lista = [fork[j][\"language\"] for j in range(len(fork))]\n",
    "    languages.append(lista)"
   ]
  },
  {
   "cell_type": "code",
   "execution_count": 8,
   "metadata": {},
   "outputs": [],
   "source": [
    "unique_languages = []\n",
    "for array in languages:\n",
    "    for language in array:\n",
    "        if language not in unique_languages and language != None:\n",
    "            unique_languages.append(language)"
   ]
  },
  {
   "cell_type": "code",
   "execution_count": 9,
   "metadata": {},
   "outputs": [
    {
     "data": {
      "text/plain": [
       "['Jupyter Notebook', 'HTML', 'Python']"
      ]
     },
     "execution_count": 9,
     "metadata": {},
     "output_type": "execute_result"
    }
   ],
   "source": [
    "unique_languages "
   ]
  },
  {
   "cell_type": "markdown",
   "metadata": {},
   "source": [
    "## Challenge 2: Count Commits"
   ]
  },
  {
   "cell_type": "code",
   "execution_count": 10,
   "metadata": {},
   "outputs": [],
   "source": [
    "url3 = \"https://api.github.com/orgs/ironhack-bcn-data-pt/repos\""
   ]
  },
  {
   "cell_type": "code",
   "execution_count": 11,
   "metadata": {},
   "outputs": [],
   "source": [
    "resp2 = requests.get(url3, headers = headers).json()"
   ]
  },
  {
   "cell_type": "code",
   "execution_count": 12,
   "metadata": {},
   "outputs": [],
   "source": [
    "direcciones = []\n",
    "for i in range(len(resp2)):\n",
    "    try:\n",
    "        time.sleep(2) #ponemos dos segundos de pausa para que no vaya muy a saco \n",
    "        direccion = resp2[i][\"commits_url\"]\n",
    "        direcciones.append(direccion)\n",
    "    except: \n",
    "        continue"
   ]
  },
  {
   "cell_type": "code",
   "execution_count": 13,
   "metadata": {},
   "outputs": [
    {
     "data": {
      "text/plain": [
       "['https://api.github.com/repos/ironhack-bcn-data-pt/notebooks/commits{/sha}',\n",
       " 'https://api.github.com/repos/ironhack-bcn-data-pt/syllabus/commits{/sha}',\n",
       " 'https://api.github.com/repos/ironhack-bcn-data-pt/data-prework-labs/commits{/sha}',\n",
       " 'https://api.github.com/repos/ironhack-bcn-data-pt/test-repo/commits{/sha}',\n",
       " 'https://api.github.com/repos/ironhack-bcn-data-pt/katas-challenge/commits{/sha}',\n",
       " 'https://api.github.com/repos/ironhack-bcn-data-pt/01-lab-list-comprehensions/commits{/sha}',\n",
       " 'https://api.github.com/repos/ironhack-bcn-data-pt/02-lab-tuple-set-dict/commits{/sha}',\n",
       " 'https://api.github.com/repos/ironhack-bcn-data-pt/04-lab-functional-programming/commits{/sha}',\n",
       " 'https://api.github.com/repos/ironhack-bcn-data-pt/03-lab-lambda-functions/commits{/sha}',\n",
       " 'https://api.github.com/repos/ironhack-bcn-data-pt/05-lab-object-oriented-programming/commits{/sha}',\n",
       " 'https://api.github.com/repos/ironhack-bcn-data-pt/datapt-bcn-cheatsheet/commits{/sha}',\n",
       " 'https://api.github.com/repos/ironhack-bcn-data-pt/07-lab-error-handling/commits{/sha}',\n",
       " 'https://api.github.com/repos/ironhack-bcn-data-pt/06-lab-map-reduce-filter/commits{/sha}',\n",
       " 'https://api.github.com/repos/ironhack-bcn-data-pt/PR01-project-python/commits{/sha}',\n",
       " 'https://api.github.com/repos/ironhack-bcn-data-pt/PR01-python-project-escape-room/commits{/sha}',\n",
       " 'https://api.github.com/repos/ironhack-bcn-data-pt/08-lab-import-export/commits{/sha}',\n",
       " 'https://api.github.com/repos/ironhack-bcn-data-pt/09-lab-string-operations/commits{/sha}',\n",
       " 'https://api.github.com/repos/ironhack-bcn-data-pt/10-lab-advanced-regex/commits{/sha}',\n",
       " 'https://api.github.com/repos/ironhack-bcn-data-pt/11-lab-numpy/commits{/sha}',\n",
       " 'https://api.github.com/repos/ironhack-bcn-data-pt/12-lab-pandas/commits{/sha}',\n",
       " 'https://api.github.com/repos/ironhack-bcn-data-pt/13-lab-pandas-data-cleaning/commits{/sha}',\n",
       " 'https://api.github.com/repos/ironhack-bcn-data-pt/14-lab-df-calculation-and-transformation/commits{/sha}',\n",
       " 'https://api.github.com/repos/ironhack-bcn-data-pt/PR02-project-pandas/commits{/sha}',\n",
       " 'https://api.github.com/repos/ironhack-bcn-data-pt/15-lab-parsing-API-data/commits{/sha}',\n",
       " 'https://api.github.com/repos/ironhack-bcn-data-pt/16-lab-rss-feeds/commits{/sha}',\n",
       " 'https://api.github.com/repos/ironhack-bcn-data-pt/17-lab-API-scavenger/commits{/sha}',\n",
       " 'https://api.github.com/repos/ironhack-bcn-data-pt/18-lab-web-scraping/commits{/sha}',\n",
       " 'https://api.github.com/repos/ironhack-bcn-data-pt/19-lab-advanced-web-scraping/commits{/sha}',\n",
       " 'https://api.github.com/repos/ironhack-bcn-data-pt/PR03-project-web/commits{/sha}',\n",
       " 'https://api.github.com/repos/ironhack-bcn-data-pt/20-lab-sql-select/commits{/sha}']"
      ]
     },
     "execution_count": 13,
     "metadata": {},
     "output_type": "execute_result"
    }
   ],
   "source": [
    "direcciones"
   ]
  },
  {
   "cell_type": "code",
   "execution_count": 14,
   "metadata": {},
   "outputs": [],
   "source": [
    "direcciones2=[]\n",
    "for i in range(len(direcciones)):\n",
    "    dire = direcciones[i].replace(\"{/sha}\",\"\")\n",
    "    direcciones2.append(dire)"
   ]
  },
  {
   "cell_type": "code",
   "execution_count": 15,
   "metadata": {},
   "outputs": [
    {
     "data": {
      "text/plain": [
       "['https://api.github.com/repos/ironhack-bcn-data-pt/notebooks/commits',\n",
       " 'https://api.github.com/repos/ironhack-bcn-data-pt/syllabus/commits',\n",
       " 'https://api.github.com/repos/ironhack-bcn-data-pt/data-prework-labs/commits',\n",
       " 'https://api.github.com/repos/ironhack-bcn-data-pt/test-repo/commits',\n",
       " 'https://api.github.com/repos/ironhack-bcn-data-pt/katas-challenge/commits',\n",
       " 'https://api.github.com/repos/ironhack-bcn-data-pt/01-lab-list-comprehensions/commits',\n",
       " 'https://api.github.com/repos/ironhack-bcn-data-pt/02-lab-tuple-set-dict/commits',\n",
       " 'https://api.github.com/repos/ironhack-bcn-data-pt/04-lab-functional-programming/commits',\n",
       " 'https://api.github.com/repos/ironhack-bcn-data-pt/03-lab-lambda-functions/commits',\n",
       " 'https://api.github.com/repos/ironhack-bcn-data-pt/05-lab-object-oriented-programming/commits',\n",
       " 'https://api.github.com/repos/ironhack-bcn-data-pt/datapt-bcn-cheatsheet/commits',\n",
       " 'https://api.github.com/repos/ironhack-bcn-data-pt/07-lab-error-handling/commits',\n",
       " 'https://api.github.com/repos/ironhack-bcn-data-pt/06-lab-map-reduce-filter/commits',\n",
       " 'https://api.github.com/repos/ironhack-bcn-data-pt/PR01-project-python/commits',\n",
       " 'https://api.github.com/repos/ironhack-bcn-data-pt/PR01-python-project-escape-room/commits',\n",
       " 'https://api.github.com/repos/ironhack-bcn-data-pt/08-lab-import-export/commits',\n",
       " 'https://api.github.com/repos/ironhack-bcn-data-pt/09-lab-string-operations/commits',\n",
       " 'https://api.github.com/repos/ironhack-bcn-data-pt/10-lab-advanced-regex/commits',\n",
       " 'https://api.github.com/repos/ironhack-bcn-data-pt/11-lab-numpy/commits',\n",
       " 'https://api.github.com/repos/ironhack-bcn-data-pt/12-lab-pandas/commits',\n",
       " 'https://api.github.com/repos/ironhack-bcn-data-pt/13-lab-pandas-data-cleaning/commits',\n",
       " 'https://api.github.com/repos/ironhack-bcn-data-pt/14-lab-df-calculation-and-transformation/commits',\n",
       " 'https://api.github.com/repos/ironhack-bcn-data-pt/PR02-project-pandas/commits',\n",
       " 'https://api.github.com/repos/ironhack-bcn-data-pt/15-lab-parsing-API-data/commits',\n",
       " 'https://api.github.com/repos/ironhack-bcn-data-pt/16-lab-rss-feeds/commits',\n",
       " 'https://api.github.com/repos/ironhack-bcn-data-pt/17-lab-API-scavenger/commits',\n",
       " 'https://api.github.com/repos/ironhack-bcn-data-pt/18-lab-web-scraping/commits',\n",
       " 'https://api.github.com/repos/ironhack-bcn-data-pt/19-lab-advanced-web-scraping/commits',\n",
       " 'https://api.github.com/repos/ironhack-bcn-data-pt/PR03-project-web/commits',\n",
       " 'https://api.github.com/repos/ironhack-bcn-data-pt/20-lab-sql-select/commits']"
      ]
     },
     "execution_count": 15,
     "metadata": {},
     "output_type": "execute_result"
    }
   ],
   "source": [
    "direcciones2"
   ]
  },
  {
   "cell_type": "code",
   "execution_count": 16,
   "metadata": {},
   "outputs": [],
   "source": [
    "commits = []\n",
    "for i in direcciones2:\n",
    "    try:\n",
    "        time.sleep(2) #ponemos dos segundos de pausa para que no vaya muy a saco \n",
    "        commit = requests.get(f'{i}', headers = headers).json()\n",
    "        commit_name = [(commit[j][\"commit\"][\"author\"][\"name\"],commit[j][\"commit\"][\"author\"][\"date\"]) for j in range(len(commit))]\n",
    "        commits.append(commit_name)\n",
    "    except: \n",
    "        continue"
   ]
  },
  {
   "cell_type": "code",
   "execution_count": 17,
   "metadata": {},
   "outputs": [],
   "source": [
    "import pandas as pd"
   ]
  },
  {
   "cell_type": "code",
   "execution_count": 18,
   "metadata": {},
   "outputs": [],
   "source": [
    "dataframes = []\n",
    "for x in range(len(commits)): \n",
    "    df3 = pd.DataFrame(commits[x])\n",
    "    dataframes.append(df3)"
   ]
  },
  {
   "cell_type": "code",
   "execution_count": 19,
   "metadata": {},
   "outputs": [],
   "source": [
    "dfcon = pd.concat(dataframes, axis=0)"
   ]
  },
  {
   "cell_type": "code",
   "execution_count": 20,
   "metadata": {},
   "outputs": [],
   "source": [
    "dfcon.sort_values(by = 1, inplace = True,ascending = False)"
   ]
  },
  {
   "cell_type": "code",
   "execution_count": 21,
   "metadata": {},
   "outputs": [
    {
     "data": {
      "text/html": [
       "<div>\n",
       "<style scoped>\n",
       "    .dataframe tbody tr th:only-of-type {\n",
       "        vertical-align: middle;\n",
       "    }\n",
       "\n",
       "    .dataframe tbody tr th {\n",
       "        vertical-align: top;\n",
       "    }\n",
       "\n",
       "    .dataframe thead th {\n",
       "        text-align: right;\n",
       "    }\n",
       "</style>\n",
       "<table border=\"1\" class=\"dataframe\">\n",
       "  <thead>\n",
       "    <tr style=\"text-align: right;\">\n",
       "      <th></th>\n",
       "      <th>0</th>\n",
       "      <th>1</th>\n",
       "    </tr>\n",
       "  </thead>\n",
       "  <tbody>\n",
       "    <tr>\n",
       "      <th>0</th>\n",
       "      <td>Alberto Labarga</td>\n",
       "      <td>2021-04-10T09:13:21Z</td>\n",
       "    </tr>\n",
       "    <tr>\n",
       "      <th>1</th>\n",
       "      <td>ta-datapt-bcn</td>\n",
       "      <td>2021-03-27T09:27:18Z</td>\n",
       "    </tr>\n",
       "    <tr>\n",
       "      <th>2</th>\n",
       "      <td>ta-datapt-bcn</td>\n",
       "      <td>2021-03-25T21:54:22Z</td>\n",
       "    </tr>\n",
       "    <tr>\n",
       "      <th>3</th>\n",
       "      <td>ta-datapt-bcn</td>\n",
       "      <td>2021-03-23T21:26:46Z</td>\n",
       "    </tr>\n",
       "    <tr>\n",
       "      <th>4</th>\n",
       "      <td>ta-datapt-bcn</td>\n",
       "      <td>2021-03-23T20:29:56Z</td>\n",
       "    </tr>\n",
       "    <tr>\n",
       "      <th>...</th>\n",
       "      <td>...</td>\n",
       "      <td>...</td>\n",
       "    </tr>\n",
       "    <tr>\n",
       "      <th>12</th>\n",
       "      <td>albertogcmr</td>\n",
       "      <td>2019-01-11T14:19:21Z</td>\n",
       "    </tr>\n",
       "    <tr>\n",
       "      <th>13</th>\n",
       "      <td>albertogcmr</td>\n",
       "      <td>2019-01-10T13:10:14Z</td>\n",
       "    </tr>\n",
       "    <tr>\n",
       "      <th>14</th>\n",
       "      <td>albertogcmr</td>\n",
       "      <td>2019-01-10T13:00:33Z</td>\n",
       "    </tr>\n",
       "    <tr>\n",
       "      <th>15</th>\n",
       "      <td>albertogcmr</td>\n",
       "      <td>2019-01-10T12:57:16Z</td>\n",
       "    </tr>\n",
       "    <tr>\n",
       "      <th>16</th>\n",
       "      <td>albertogcmr</td>\n",
       "      <td>2019-01-10T12:52:17Z</td>\n",
       "    </tr>\n",
       "  </tbody>\n",
       "</table>\n",
       "<p>142 rows × 2 columns</p>\n",
       "</div>"
      ],
      "text/plain": [
       "                  0                     1\n",
       "0   Alberto Labarga  2021-04-10T09:13:21Z\n",
       "1     ta-datapt-bcn  2021-03-27T09:27:18Z\n",
       "2     ta-datapt-bcn  2021-03-25T21:54:22Z\n",
       "3     ta-datapt-bcn  2021-03-23T21:26:46Z\n",
       "4     ta-datapt-bcn  2021-03-23T20:29:56Z\n",
       "..              ...                   ...\n",
       "12      albertogcmr  2019-01-11T14:19:21Z\n",
       "13      albertogcmr  2019-01-10T13:10:14Z\n",
       "14      albertogcmr  2019-01-10T13:00:33Z\n",
       "15      albertogcmr  2019-01-10T12:57:16Z\n",
       "16      albertogcmr  2019-01-10T12:52:17Z\n",
       "\n",
       "[142 rows x 2 columns]"
      ]
     },
     "execution_count": 21,
     "metadata": {},
     "output_type": "execute_result"
    }
   ],
   "source": [
    "dfcon"
   ]
  },
  {
   "cell_type": "code",
   "execution_count": null,
   "metadata": {},
   "outputs": [],
   "source": [
    "#In the last weeek there was only one commit from ALberto Labarga "
   ]
  },
  {
   "cell_type": "markdown",
   "metadata": {},
   "source": [
    "## Challenge 3: Hidden Cold Joke\n"
   ]
  },
  {
   "cell_type": "code",
   "execution_count": 25,
   "metadata": {},
   "outputs": [],
   "source": [
    "url1 = \"https://api.github.com/orgs/ironhack-datalabs/repos\""
   ]
  },
  {
   "cell_type": "code",
   "execution_count": 26,
   "metadata": {},
   "outputs": [],
   "source": [
    "resp1 = requests.get(url1, headers = headers).json()"
   ]
  },
  {
   "cell_type": "code",
   "execution_count": 27,
   "metadata": {},
   "outputs": [],
   "source": [
    "url2 = resp1[3][\"trees_url\"].replace(\"{/sha}\",\"/master\")"
   ]
  },
  {
   "cell_type": "code",
   "execution_count": 28,
   "metadata": {},
   "outputs": [],
   "source": [
    "resp4 = requests.get(url2, headers = headers).json()"
   ]
  },
  {
   "cell_type": "code",
   "execution_count": 29,
   "metadata": {},
   "outputs": [],
   "source": [
    "lista = [resp4[\"tree\"][i][\"url\"] for i in range(len(resp4[\"tree\"]))]"
   ]
  },
  {
   "cell_type": "code",
   "execution_count": 30,
   "metadata": {},
   "outputs": [],
   "source": [
    "files = []\n",
    "import time\n",
    "for i in lista: \n",
    "    try:\n",
    "        time.sleep(2) #ponemos dos segundos de pausa para que no vaya muy a saco \n",
    "        file = requests.get(f'{i}', headers = headers).json()\n",
    "        file_name = [(file[\"tree\"][i][\"path\"],file[\"tree\"][i][\"url\"]) for i in range(len(file[\"tree\"]))]\n",
    "        files.append(file_name)\n",
    "    except: \n",
    "        continue"
   ]
  },
  {
   "cell_type": "code",
   "execution_count": 31,
   "metadata": {},
   "outputs": [],
   "source": [
    "documents = []\n",
    "links = []\n",
    "for elements in files: \n",
    "    for i in elements: \n",
    "        if i[0].startswith(\".00\"):\n",
    "            documents.append(i)"
   ]
  },
  {
   "cell_type": "code",
   "execution_count": 32,
   "metadata": {},
   "outputs": [
    {
     "data": {
      "text/plain": [
       "[('.0006.scavengerhunt',\n",
       "  'https://api.github.com/repos/ironhack-datalabs/scavenger/git/blobs/1c9064284a24b3486015eafdb391b141c27ada2b'),\n",
       " ('.0008.scavengerhunt',\n",
       "  'https://api.github.com/repos/ironhack-datalabs/scavenger/git/blobs/e351fb73264581ce26504b97ef07daea35116f32'),\n",
       " ('.0012.scavengerhunt',\n",
       "  'https://api.github.com/repos/ironhack-datalabs/scavenger/git/blobs/209e3ef4b6247ce746048d5711befda46206d235'),\n",
       " ('.0007.scavengerhunt',\n",
       "  'https://api.github.com/repos/ironhack-datalabs/scavenger/git/blobs/6abb415e0ae3450be0f323113bcca2af195ebbff'),\n",
       " ('.0021.scavengerhunt',\n",
       "  'https://api.github.com/repos/ironhack-datalabs/scavenger/git/blobs/fb828e4a926b0a84fc16111fc0ee3eeec41f0ce7'),\n",
       " ('.0022.scavengerhunt',\n",
       "  'https://api.github.com/repos/ironhack-datalabs/scavenger/git/blobs/bf3efa02f721c40c03a613824e345243a35f6812'),\n",
       " ('.0005.scavengerhunt',\n",
       "  'https://api.github.com/repos/ironhack-datalabs/scavenger/git/blobs/3aaf448b40f878cf3067e2323616143bdde600de'),\n",
       " ('.0018.scavengerhunt',\n",
       "  'https://api.github.com/repos/ironhack-datalabs/scavenger/git/blobs/397b22b2dc371e8db59ed327f0b75321e4c0d0f2'),\n",
       " ('.0016.scavengerhunt',\n",
       "  'https://api.github.com/repos/ironhack-datalabs/scavenger/git/blobs/f5cb13223fdc1b11f4cfbbe1694f533b3c579fa0'),\n",
       " ('.0024.scavengerhunt',\n",
       "  'https://api.github.com/repos/ironhack-datalabs/scavenger/git/blobs/47eb4306e5fec9e051dacabc7039348109784b94'),\n",
       " ('.0010.scavengerhunt',\n",
       "  'https://api.github.com/repos/ironhack-datalabs/scavenger/git/blobs/c1187c4badc9be6990570cef850fc87dcf3523b0'),\n",
       " ('.0014.scavengerhunt',\n",
       "  'https://api.github.com/repos/ironhack-datalabs/scavenger/git/blobs/1c9064284a24b3486015eafdb391b141c27ada2b'),\n",
       " ('.0011.scavengerhunt',\n",
       "  'https://api.github.com/repos/ironhack-datalabs/scavenger/git/blobs/1a00a70b240d8947af0aaa04f1a93a52c72f7420'),\n",
       " ('.0023.scavengerhunt',\n",
       "  'https://api.github.com/repos/ironhack-datalabs/scavenger/git/blobs/04d0ffb8d895a9e3ee244493e829a24468bd1f60'),\n",
       " ('.0020.scavengerhunt',\n",
       "  'https://api.github.com/repos/ironhack-datalabs/scavenger/git/blobs/41d25f51c301c5eee3737998b0d86573e4e91b90'),\n",
       " ('.0003.scavengerhunt',\n",
       "  'https://api.github.com/repos/ironhack-datalabs/scavenger/git/blobs/ba524d7abc4b3a0c0995eb85c9eef470e9e7172f'),\n",
       " ('.0004.scavengerhunt',\n",
       "  'https://api.github.com/repos/ironhack-datalabs/scavenger/git/blobs/d15a2cc44e31b14c65264271b81072e5ba0e1634'),\n",
       " ('.0019.scavengerhunt',\n",
       "  'https://api.github.com/repos/ironhack-datalabs/scavenger/git/blobs/09e16f36b3c4993ba924b1074629283a49869be9'),\n",
       " ('.0017.scavengerhunt',\n",
       "  'https://api.github.com/repos/ironhack-datalabs/scavenger/git/blobs/e351fb73264581ce26504b97ef07daea35116f32'),\n",
       " ('.0002.scavengerhunt',\n",
       "  'https://api.github.com/repos/ironhack-datalabs/scavenger/git/blobs/1269488f7fb1f4b56a8c0e5eb48cecbfadfa9219'),\n",
       " ('.0013.scavengerhunt',\n",
       "  'https://api.github.com/repos/ironhack-datalabs/scavenger/git/blobs/3aaf448b40f878cf3067e2323616143bdde600de'),\n",
       " ('.0015.scavengerhunt',\n",
       "  'https://api.github.com/repos/ironhack-datalabs/scavenger/git/blobs/6abb415e0ae3450be0f323113bcca2af195ebbff'),\n",
       " ('.0009.scavengerhunt',\n",
       "  'https://api.github.com/repos/ironhack-datalabs/scavenger/git/blobs/f5cb13223fdc1b11f4cfbbe1694f533b3c579fa0'),\n",
       " ('.0001.scavengerhunt',\n",
       "  'https://api.github.com/repos/ironhack-datalabs/scavenger/git/blobs/2add7632f1323136324efbf38ec66db1838b6173')]"
      ]
     },
     "execution_count": 32,
     "metadata": {},
     "output_type": "execute_result"
    }
   ],
   "source": [
    "documents"
   ]
  },
  {
   "cell_type": "code",
   "execution_count": 33,
   "metadata": {},
   "outputs": [],
   "source": [
    "import pandas as pd"
   ]
  },
  {
   "cell_type": "code",
   "execution_count": 34,
   "metadata": {},
   "outputs": [],
   "source": [
    "df = pd.DataFrame(documents)"
   ]
  },
  {
   "cell_type": "code",
   "execution_count": 35,
   "metadata": {},
   "outputs": [],
   "source": [
    "df.sort_values(by = 0, inplace = True)"
   ]
  },
  {
   "cell_type": "code",
   "execution_count": 36,
   "metadata": {},
   "outputs": [],
   "source": [
    "df.rename(columns={0: \"Name\", 1: \"Links\"},inplace = True)"
   ]
  },
  {
   "cell_type": "code",
   "execution_count": 37,
   "metadata": {},
   "outputs": [],
   "source": [
    "df.reset_index(drop=True,inplace=True)"
   ]
  },
  {
   "cell_type": "code",
   "execution_count": 38,
   "metadata": {},
   "outputs": [
    {
     "data": {
      "text/html": [
       "<div>\n",
       "<style scoped>\n",
       "    .dataframe tbody tr th:only-of-type {\n",
       "        vertical-align: middle;\n",
       "    }\n",
       "\n",
       "    .dataframe tbody tr th {\n",
       "        vertical-align: top;\n",
       "    }\n",
       "\n",
       "    .dataframe thead th {\n",
       "        text-align: right;\n",
       "    }\n",
       "</style>\n",
       "<table border=\"1\" class=\"dataframe\">\n",
       "  <thead>\n",
       "    <tr style=\"text-align: right;\">\n",
       "      <th></th>\n",
       "      <th>Name</th>\n",
       "      <th>Links</th>\n",
       "    </tr>\n",
       "  </thead>\n",
       "  <tbody>\n",
       "    <tr>\n",
       "      <th>0</th>\n",
       "      <td>.0001.scavengerhunt</td>\n",
       "      <td>https://api.github.com/repos/ironhack-datalabs...</td>\n",
       "    </tr>\n",
       "    <tr>\n",
       "      <th>1</th>\n",
       "      <td>.0002.scavengerhunt</td>\n",
       "      <td>https://api.github.com/repos/ironhack-datalabs...</td>\n",
       "    </tr>\n",
       "    <tr>\n",
       "      <th>2</th>\n",
       "      <td>.0003.scavengerhunt</td>\n",
       "      <td>https://api.github.com/repos/ironhack-datalabs...</td>\n",
       "    </tr>\n",
       "    <tr>\n",
       "      <th>3</th>\n",
       "      <td>.0004.scavengerhunt</td>\n",
       "      <td>https://api.github.com/repos/ironhack-datalabs...</td>\n",
       "    </tr>\n",
       "    <tr>\n",
       "      <th>4</th>\n",
       "      <td>.0005.scavengerhunt</td>\n",
       "      <td>https://api.github.com/repos/ironhack-datalabs...</td>\n",
       "    </tr>\n",
       "    <tr>\n",
       "      <th>5</th>\n",
       "      <td>.0006.scavengerhunt</td>\n",
       "      <td>https://api.github.com/repos/ironhack-datalabs...</td>\n",
       "    </tr>\n",
       "    <tr>\n",
       "      <th>6</th>\n",
       "      <td>.0007.scavengerhunt</td>\n",
       "      <td>https://api.github.com/repos/ironhack-datalabs...</td>\n",
       "    </tr>\n",
       "    <tr>\n",
       "      <th>7</th>\n",
       "      <td>.0008.scavengerhunt</td>\n",
       "      <td>https://api.github.com/repos/ironhack-datalabs...</td>\n",
       "    </tr>\n",
       "    <tr>\n",
       "      <th>8</th>\n",
       "      <td>.0009.scavengerhunt</td>\n",
       "      <td>https://api.github.com/repos/ironhack-datalabs...</td>\n",
       "    </tr>\n",
       "    <tr>\n",
       "      <th>9</th>\n",
       "      <td>.0010.scavengerhunt</td>\n",
       "      <td>https://api.github.com/repos/ironhack-datalabs...</td>\n",
       "    </tr>\n",
       "    <tr>\n",
       "      <th>10</th>\n",
       "      <td>.0011.scavengerhunt</td>\n",
       "      <td>https://api.github.com/repos/ironhack-datalabs...</td>\n",
       "    </tr>\n",
       "    <tr>\n",
       "      <th>11</th>\n",
       "      <td>.0012.scavengerhunt</td>\n",
       "      <td>https://api.github.com/repos/ironhack-datalabs...</td>\n",
       "    </tr>\n",
       "    <tr>\n",
       "      <th>12</th>\n",
       "      <td>.0013.scavengerhunt</td>\n",
       "      <td>https://api.github.com/repos/ironhack-datalabs...</td>\n",
       "    </tr>\n",
       "    <tr>\n",
       "      <th>13</th>\n",
       "      <td>.0014.scavengerhunt</td>\n",
       "      <td>https://api.github.com/repos/ironhack-datalabs...</td>\n",
       "    </tr>\n",
       "    <tr>\n",
       "      <th>14</th>\n",
       "      <td>.0015.scavengerhunt</td>\n",
       "      <td>https://api.github.com/repos/ironhack-datalabs...</td>\n",
       "    </tr>\n",
       "    <tr>\n",
       "      <th>15</th>\n",
       "      <td>.0016.scavengerhunt</td>\n",
       "      <td>https://api.github.com/repos/ironhack-datalabs...</td>\n",
       "    </tr>\n",
       "    <tr>\n",
       "      <th>16</th>\n",
       "      <td>.0017.scavengerhunt</td>\n",
       "      <td>https://api.github.com/repos/ironhack-datalabs...</td>\n",
       "    </tr>\n",
       "    <tr>\n",
       "      <th>17</th>\n",
       "      <td>.0018.scavengerhunt</td>\n",
       "      <td>https://api.github.com/repos/ironhack-datalabs...</td>\n",
       "    </tr>\n",
       "    <tr>\n",
       "      <th>18</th>\n",
       "      <td>.0019.scavengerhunt</td>\n",
       "      <td>https://api.github.com/repos/ironhack-datalabs...</td>\n",
       "    </tr>\n",
       "    <tr>\n",
       "      <th>19</th>\n",
       "      <td>.0020.scavengerhunt</td>\n",
       "      <td>https://api.github.com/repos/ironhack-datalabs...</td>\n",
       "    </tr>\n",
       "    <tr>\n",
       "      <th>20</th>\n",
       "      <td>.0021.scavengerhunt</td>\n",
       "      <td>https://api.github.com/repos/ironhack-datalabs...</td>\n",
       "    </tr>\n",
       "    <tr>\n",
       "      <th>21</th>\n",
       "      <td>.0022.scavengerhunt</td>\n",
       "      <td>https://api.github.com/repos/ironhack-datalabs...</td>\n",
       "    </tr>\n",
       "    <tr>\n",
       "      <th>22</th>\n",
       "      <td>.0023.scavengerhunt</td>\n",
       "      <td>https://api.github.com/repos/ironhack-datalabs...</td>\n",
       "    </tr>\n",
       "    <tr>\n",
       "      <th>23</th>\n",
       "      <td>.0024.scavengerhunt</td>\n",
       "      <td>https://api.github.com/repos/ironhack-datalabs...</td>\n",
       "    </tr>\n",
       "  </tbody>\n",
       "</table>\n",
       "</div>"
      ],
      "text/plain": [
       "                   Name                                              Links\n",
       "0   .0001.scavengerhunt  https://api.github.com/repos/ironhack-datalabs...\n",
       "1   .0002.scavengerhunt  https://api.github.com/repos/ironhack-datalabs...\n",
       "2   .0003.scavengerhunt  https://api.github.com/repos/ironhack-datalabs...\n",
       "3   .0004.scavengerhunt  https://api.github.com/repos/ironhack-datalabs...\n",
       "4   .0005.scavengerhunt  https://api.github.com/repos/ironhack-datalabs...\n",
       "5   .0006.scavengerhunt  https://api.github.com/repos/ironhack-datalabs...\n",
       "6   .0007.scavengerhunt  https://api.github.com/repos/ironhack-datalabs...\n",
       "7   .0008.scavengerhunt  https://api.github.com/repos/ironhack-datalabs...\n",
       "8   .0009.scavengerhunt  https://api.github.com/repos/ironhack-datalabs...\n",
       "9   .0010.scavengerhunt  https://api.github.com/repos/ironhack-datalabs...\n",
       "10  .0011.scavengerhunt  https://api.github.com/repos/ironhack-datalabs...\n",
       "11  .0012.scavengerhunt  https://api.github.com/repos/ironhack-datalabs...\n",
       "12  .0013.scavengerhunt  https://api.github.com/repos/ironhack-datalabs...\n",
       "13  .0014.scavengerhunt  https://api.github.com/repos/ironhack-datalabs...\n",
       "14  .0015.scavengerhunt  https://api.github.com/repos/ironhack-datalabs...\n",
       "15  .0016.scavengerhunt  https://api.github.com/repos/ironhack-datalabs...\n",
       "16  .0017.scavengerhunt  https://api.github.com/repos/ironhack-datalabs...\n",
       "17  .0018.scavengerhunt  https://api.github.com/repos/ironhack-datalabs...\n",
       "18  .0019.scavengerhunt  https://api.github.com/repos/ironhack-datalabs...\n",
       "19  .0020.scavengerhunt  https://api.github.com/repos/ironhack-datalabs...\n",
       "20  .0021.scavengerhunt  https://api.github.com/repos/ironhack-datalabs...\n",
       "21  .0022.scavengerhunt  https://api.github.com/repos/ironhack-datalabs...\n",
       "22  .0023.scavengerhunt  https://api.github.com/repos/ironhack-datalabs...\n",
       "23  .0024.scavengerhunt  https://api.github.com/repos/ironhack-datalabs..."
      ]
     },
     "execution_count": 38,
     "metadata": {},
     "output_type": "execute_result"
    }
   ],
   "source": [
    "df"
   ]
  },
  {
   "cell_type": "code",
   "execution_count": 39,
   "metadata": {},
   "outputs": [],
   "source": [
    "contents = []\n",
    "import time\n",
    "\n",
    "for i in range(len(df[\"Links\"])):\n",
    "    try:\n",
    "        time.sleep(2) #ponemos dos segundos de pausa para que no vaya muy a saco \n",
    "        content = requests.get(f'{df[\"Links\"][i]}',headers = headers).json()\n",
    "        content_name = content[\"content\"]\n",
    "        contents.append(content_name)\n",
    "    except: \n",
    "        continue"
   ]
  },
  {
   "cell_type": "code",
   "execution_count": 40,
   "metadata": {},
   "outputs": [
    {
     "data": {
      "text/plain": [
       "['SW4K\\n',\n",
       " 'ZGF0YQo=\\n',\n",
       " 'c2NpZW5jZSwK\\n',\n",
       " 'ODAK\\n',\n",
       " 'cGVyY2VudAo=\\n',\n",
       " 'b2YK\\n',\n",
       " 'dGltZQo=\\n',\n",
       " 'c3BlbnQK\\n',\n",
       " 'aXMK\\n',\n",
       " 'cHJlcGFyaW5nCg==\\n',\n",
       " 'ZGF0YSwK\\n',\n",
       " 'MjAK\\n',\n",
       " 'cGVyY2VudAo=\\n',\n",
       " 'b2YK\\n',\n",
       " 'dGltZQo=\\n',\n",
       " 'aXMK\\n',\n",
       " 'c3BlbnQK\\n',\n",
       " 'Y29tcGxhaW5pbmcK\\n',\n",
       " 'YWJvdXQK\\n',\n",
       " 'dGhlCg==\\n',\n",
       " 'bmVlZAo=\\n',\n",
       " 'dG8K\\n',\n",
       " 'cHJlcGFyZQo=\\n',\n",
       " 'ZGF0YS4K\\n']"
      ]
     },
     "execution_count": 40,
     "metadata": {},
     "output_type": "execute_result"
    }
   ],
   "source": [
    "contents"
   ]
  },
  {
   "cell_type": "code",
   "execution_count": 41,
   "metadata": {},
   "outputs": [],
   "source": [
    "import base64"
   ]
  },
  {
   "cell_type": "code",
   "execution_count": 42,
   "metadata": {},
   "outputs": [],
   "source": [
    "jokeparts = []\n",
    "for i in range(len(contents)):\n",
    "    message = str(base64.b64decode(contents[i]), 'utf-8').replace(\"\\n\",\"\")\n",
    "    jokeparts.append(message)"
   ]
  },
  {
   "cell_type": "code",
   "execution_count": 43,
   "metadata": {},
   "outputs": [],
   "source": [
    "joke = \" \".join(jokeparts)"
   ]
  },
  {
   "cell_type": "code",
   "execution_count": 44,
   "metadata": {},
   "outputs": [
    {
     "data": {
      "text/plain": [
       "'In data science, 80 percent of time spent is preparing data, 20 percent of time is spent complaining about the need to prepare data.'"
      ]
     },
     "execution_count": 44,
     "metadata": {},
     "output_type": "execute_result"
    }
   ],
   "source": [
    "joke"
   ]
  },
  {
   "cell_type": "code",
   "execution_count": null,
   "metadata": {},
   "outputs": [],
   "source": []
  }
 ],
 "metadata": {
  "kernelspec": {
   "display_name": "Python 3",
   "language": "python",
   "name": "python3"
  },
  "language_info": {
   "codemirror_mode": {
    "name": "ipython",
    "version": 3
   },
   "file_extension": ".py",
   "mimetype": "text/x-python",
   "name": "python",
   "nbconvert_exporter": "python",
   "pygments_lexer": "ipython3",
   "version": "3.8.5"
  },
  "toc": {
   "base_numbering": 1,
   "nav_menu": {},
   "number_sections": true,
   "sideBar": true,
   "skip_h1_title": false,
   "title_cell": "Table of Contents",
   "title_sidebar": "Contents",
   "toc_cell": false,
   "toc_position": {},
   "toc_section_display": true,
   "toc_window_display": false
  },
  "varInspector": {
   "cols": {
    "lenName": 16,
    "lenType": 16,
    "lenVar": 40
   },
   "kernels_config": {
    "python": {
     "delete_cmd_postfix": "",
     "delete_cmd_prefix": "del ",
     "library": "var_list.py",
     "varRefreshCmd": "print(var_dic_list())"
    },
    "r": {
     "delete_cmd_postfix": ") ",
     "delete_cmd_prefix": "rm(",
     "library": "var_list.r",
     "varRefreshCmd": "cat(var_dic_list()) "
    }
   },
   "types_to_exclude": [
    "module",
    "function",
    "builtin_function_or_method",
    "instance",
    "_Feature"
   ],
   "window_display": false
  }
 },
 "nbformat": 4,
 "nbformat_minor": 4
}
